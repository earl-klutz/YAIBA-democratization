{
 "cells": [
  {
   "metadata": {
    "id": "96f28adf027c124"
   },
   "cell_type": "markdown",
   "source": [
    "# 使い方\n",
    "\n",
    "YAIBA-VRCで取得したログデータを分析し、ヒストグラム・ヒートマップ・統計データ・動画を生成し、ZIPファイルで出力します。\n",
    "\n",
    "## 手順\n",
    "\n",
    "1. プライバシーポリシーと同意事項を読む\n",
    "2. ライブラリをインストール\n",
    "3. ファイルアップロード\n",
    "4. 処理開始"
   ],
   "id": "96f28adf027c124"
  },
  {
   "metadata": {
    "id": "5ae4dc1d082d3926"
   },
   "cell_type": "markdown",
   "source": [
    "## プライバシーポリシーと同意事項\n",
    "\n",
    "【重要】 プライバシーとデータの取り扱いについて\n",
    "- 本ツールは、VRChatワールドギミック「YAIBA-VRC」によって位置情報を回転情報の取得に**同意したユーザーのログ**のみを扱うことを想定しています。\n",
    "- ファイルをアップロードすることにより、データがGoogle Colaboratoryのサーバーに送信され、処理されることに同意したものとみなします。\n",
    "  これは**第三者提供**に準ずる行為となりますので、取り扱うデータの内容には十分ご注意ください。"
   ],
   "id": "5ae4dc1d082d3926"
  },
  {
   "metadata": {
    "id": "300ef3730daa2215"
   },
   "cell_type": "code",
   "source": [
    "# @title ライブラリインストール\n",
    "\n",
    "# YAIBA\n",
    "!pip install --quiet git+https://github.com/ScienceAssembly/YAIBA.git\n",
    "\n",
    "# YAIBA-BI\n",
    "!pip install --quiet git+https://github.com/earl-klutz/YAIBA-democratization.git@develop_gerusuraimu  # Release作成後は「@latest」や「@stable」に変更"
   ],
   "id": "300ef3730daa2215",
   "outputs": [],
   "execution_count": null
  },
  {
   "metadata": {
    "id": "742b50b0436177ac"
   },
   "cell_type": "code",
   "source": [
    "# @title ファイルアップロード\n",
    "\n",
    "# ライブラリimport\n",
    "import shutil\n",
    "from typing import Dict\n",
    "from google.colab import files\n",
    "from yaiba_bi import core\n",
    "from yaiba_bi import colab_ui\n",
    "\n",
    "\n",
    "# ディレクトリ初期設定\n",
    "colab_ui.initialize()\n",
    "\n",
    "\n",
    "# ファイルアップロード処理\n",
    "uploaded: Dict[str, bytes] = files.upload(colab_ui.INPUT)\n",
    "if len(uploaded) != 1:\n",
    "    raise ValueError(\"ログファイルは一つだけ指定してください\")\n",
    "\n",
    "# ファイルパス取得\n",
    "path = list(uploaded.keys())[0]\n",
    "print(f\"path: {path}\")\n",
    "\n",
    "# LogDataオブジェクト作成\n",
    "log_data: core.LogData = core.load(path)\n",
    "\n",
    "# inputディレクトリ削除\n",
    "# 生ログデータは個人情報が含まれていることがあるので、必ず削除する。\n",
    "shutil.rmtree(colab_ui.INPUT)"
   ],
   "id": "742b50b0436177ac",
   "outputs": [],
   "execution_count": null
  },
  {
   "metadata": {
    "cellView": "form",
    "id": "6546e07300d351f"
   },
   "cell_type": "code",
   "source": [
    "# @title 処理開始\n",
    "\n",
    "# 動画作成処理を実行するかを決めるBool値\n",
    "# @markdown 動画を作成する場合はチェックをつけてください\n",
    "is_generate_movie = False  # @param {\"type\": \"boolean\"}\n",
    "\n",
    "# テスト処理\n",
    "import pickle\n",
    "\n",
    "with open(f\"{colab_ui.OUTPUT}/result.pkl\", \"wb\") as f:\n",
    "    pickle.dump(log_data, f)\n",
    "\n",
    "# 処理\n",
    "\n",
    "# ZIPファイル作成\n",
    "shutil.make_archive(\"output\", format=\"zip\", root_dir=colab_ui.OUTPUT)\n",
    "\n",
    "# 作成したZIPファイルをダウンロードする\n",
    "files.download(\"output.zip\")\n",
    "\n",
    "# ディレクトリの後処理\n",
    "colab_ui.finalize()"
   ],
   "id": "6546e07300d351f",
   "outputs": [],
   "execution_count": 3
  }
 ],
 "metadata": {
  "kernelspec": {
   "display_name": "Python 3",
   "language": "python",
   "name": "python3"
  },
  "language_info": {
   "codemirror_mode": {
    "name": "ipython",
    "version": 2
   },
   "file_extension": ".py",
   "mimetype": "text/x-python",
   "name": "python",
   "nbconvert_exporter": "python",
   "pygments_lexer": "ipython2",
   "version": "2.7.6"
  },
  "colab": {
   "provenance": []
  }
 },
 "nbformat": 4,
 "nbformat_minor": 5
}
