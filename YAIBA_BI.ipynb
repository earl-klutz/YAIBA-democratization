{
  "cells": [
    {
      "metadata": {
        "id": "96f28adf027c124"
      },
      "cell_type": "markdown",
      "source": [
        "# 使い方\n",
        "\n",
        "YAIBA-VRCで取得したログデータを分析し、ヒストグラム・ヒートマップ・統計データ・動画を生成し、ZIPファイルで出力します。\n",
        "\n",
        "## 手順\n",
        "\n",
        "1. プライバシーポリシーと同意事項を読む\n",
        "2. ライブラリのインストール\n",
        "3. ファイルアップロード\n",
        "4. 処理開始"
      ],
      "id": "96f28adf027c124"
    },
    {
      "metadata": {
        "id": "5ae4dc1d082d3926"
      },
      "cell_type": "markdown",
      "source": [
        "## プライバシーポリシーと同意事項\n",
        "\n",
        "【重要】 プライバシーとデータの取り扱いについて\n",
        "- 本ツールは、VRChatワールドギミック「YAIBA-VRC」によって位置情報を回転情報の取得に**同意したユーザーのログ**のみを扱うことを想定しています。\n",
        "- ファイルをアップロードすることにより、データがGoogle Colaboratoryのサーバーに送信され、処理されることに同意したものとみなします。\n",
        "  これは**第三者提供**に準ずる行為となりますので、取り扱うデータの内容には十分ご注意ください。"
      ],
      "id": "5ae4dc1d082d3926"
    },
    {
      "cell_type": "code",
      "source": [
        "# @title ライブラリのインストール\n",
        "\n",
        "# フォントファイルのインストール\n",
        "!apt-get -qq -y update\n",
        "!apt-get -qq -y install fonts-noto-cjk fonts-ipafont-gothic\n",
        "\n",
        "# YAIBA\n",
        "!pip install --quiet git+https://github.com/ScienceAssembly/YAIBA.git\n",
        "\n",
        "# YAIBA-BI\n",
        "!pip install --quiet git+https://github.com/earl-klutz/YAIBA-democratization.git@develop_gerusuraimu  # Release作成後は「@latest」や「@stable」に変更"
      ],
      "metadata": {
        "cellView": "form",
        "id": "HQxp-eMnkafB"
      },
      "id": "HQxp-eMnkafB",
      "execution_count": null,
      "outputs": []
    },
    {
      "metadata": {
        "id": "742b50b0436177ac",
        "cellView": "form"
      },
      "cell_type": "code",
      "source": [
        "# @title ファイルアップロード\n",
        "\n",
        "# ライブラリimport\n",
        "import os\n",
        "import shutil\n",
        "from typing import Dict\n",
        "from google.colab import files\n",
        "import ipywidgets as widgets\n",
        "from IPython.display import display\n",
        "from yaiba_bi import core\n",
        "from yaiba_bi import colab_ui\n",
        "\n",
        "\n",
        "def get_display_box(e: Exception) -> widgets.HTML:\n",
        "    contents = widgets.HTML(\n",
        "        value=f\"<div style='padding:10px; border:2px solid orange; background:#FFF3E0; color:#E65100;'>\"\n",
        "              f\"<b>エラー:</b> {str(e)}</div>\"\n",
        "    )\n",
        "    return contents\n",
        "\n",
        "\n",
        "# ディレクトリ初期設定\n",
        "colab_ui.initialize()\n",
        "\n",
        "\n",
        "# ファイルアップロード処理\n",
        "uploaded: Dict[str, bytes] = files.upload(colab_ui.INPUT)\n",
        "if len(uploaded) != 1:\n",
        "    # 処理に失敗した場合はデータ全消去（情報保護）\n",
        "    colab_ui.finalize()\n",
        "    exception = ValueError(\"ログファイルは一つだけ指定してください\")\n",
        "    display(get_display_box(exception))\n",
        "    raise exception\n",
        "\n",
        "# ファイルパス取得\n",
        "path = list(uploaded.keys())[0]\n",
        "print(f\"path: {path}\")\n",
        "\n",
        "# LogDataオブジェクト作成\n",
        "try:\n",
        "    log_data: core.LogData = core.load(path)\n",
        "except ValueError as e:\n",
        "    # 処理に失敗した場合はデータ全消去（情報保護）\n",
        "    colab_ui.finalize()\n",
        "    display(get_display_box(e))\n",
        "    raise e\n",
        "else:\n",
        "    # inputディレクトリ削除\n",
        "    # 生ログデータは個人情報が含まれていることがあるので、必ず削除する。\n",
        "    shutil.rmtree(colab_ui.INPUT)"
      ],
      "id": "742b50b0436177ac",
      "outputs": [],
      "execution_count": null
    },
    {
      "metadata": {
        "cellView": "form",
        "id": "6546e07300d351f"
      },
      "cell_type": "code",
      "source": [
        "# @title 処理開始\n",
        "\n",
        "# 動画作成処理を実行するかを決めるBool値\n",
        "# @markdown 動画を作成する場合はチェックをつけてください\n",
        "is_generate_movie = False  # @param {\"type\": \"boolean\"}\n",
        "\n",
        "if os.path.isfile(\"./output.zip\"):\n",
        "    os.remove(\"./output.zip\")\n",
        "\n",
        "# 処理\n",
        "try:\n",
        "    # 処理内容を記述\n",
        "    position = log_data.get_position()\n",
        "    attendance = log_data.get_attendance()\n",
        "    area = log_data.get_area()\n",
        "\n",
        "    heatmap_generator = core.HeatmapGenerator(area)\n",
        "    heatmap_generator.run(position.copy(), \"heatmap\", colab_ui.OUTPUT)\n",
        "\n",
        "    io_params = core.HistIOParams(out_dir=colab_ui.OUTPUT)\n",
        "    core.run_histogram_mvp(df=position.copy(), io=io_params, output_basename=\"histogram\")\n",
        "\n",
        "    if is_generate_movie:\n",
        "        movie_io_params = core.MovieIOParams(out_dir=\"./YAIBA_data/output\")\n",
        "        core.run_movie_xz(log_data.get_position(), io=movie_io_params)\n",
        "\n",
        "    event_date = log_data.get_position()[\"event_day\"].unique()[0]\n",
        "    render_config = core.RenderConfig(str(event_date), \"sample\")\n",
        "    trajectory_config = core.TrajectoryConfig()\n",
        "\n",
        "    visualizer = core.EventLogVisualizer(render_config, trajectory_config)\n",
        "    visualizer.run(log_data.get_attendance(), log_data.get_position(), log_data.get_area())\n",
        "except Exception as e:\n",
        "    display(get_display_box(e))\n",
        "    raise e\n",
        "\n",
        "# ZIPファイル作成\n",
        "shutil.make_archive(\"output\", format=\"zip\", root_dir=colab_ui.OUTPUT)\n",
        "\n",
        "# 作成したZIPファイルをダウンロードする\n",
        "files.download(\"output.zip\")\n",
        "\n",
        "# ディレクトリの後処理\n",
        "colab_ui.finalize()\n",
        "colab_ui.initialize()"
      ],
      "id": "6546e07300d351f",
      "outputs": [],
      "execution_count": null
    }
  ],
  "metadata": {
    "kernelspec": {
      "display_name": "Python 3",
      "language": "python",
      "name": "python3"
    },
    "language_info": {
      "codemirror_mode": {
        "name": "ipython",
        "version": 2
      },
      "file_extension": ".py",
      "mimetype": "text/x-python",
      "name": "python",
      "nbconvert_exporter": "python",
      "pygments_lexer": "ipython2",
      "version": "2.7.6"
    },
    "colab": {
      "provenance": []
    }
  },
  "nbformat": 4,
  "nbformat_minor": 5
}