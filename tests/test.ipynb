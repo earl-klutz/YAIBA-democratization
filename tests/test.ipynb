{
 "cells": [
  {
   "cell_type": "code",
   "execution_count": 1,
   "id": "61d7184d",
   "metadata": {},
   "outputs": [],
   "source": [
    "import sys; sys.path.append(\"/home/satoru/Project/YAIBA-democratization/content/YAIBA_data/intermediate\")\n",
    "from content.YAIBA_data.intermediate.TestLogData import pkl_loader, TestLogData, TestArea"
   ]
  },
  {
   "cell_type": "code",
   "execution_count": 2,
   "id": "84a735fd",
   "metadata": {},
   "outputs": [],
   "source": [
    "data = pkl_loader(\"/home/satoru/Project/YAIBA-democratization/content/YAIBA_data/intermediate/TestData.pkl\")"
   ]
  },
  {
   "cell_type": "code",
   "execution_count": 3,
   "id": "0dbfa774",
   "metadata": {},
   "outputs": [
    {
     "name": "stdout",
     "output_type": "stream",
     "text": [
      "                   second  user_id  \\\n",
      "0     2025-09-07 09:24:31        2   \n",
      "1     2025-09-07 09:24:32        2   \n",
      "2     2025-09-07 09:24:34        2   \n",
      "3     2025-09-07 09:24:35        2   \n",
      "4     2025-09-07 09:24:36        2   \n",
      "...                   ...      ...   \n",
      "40991 2025-09-07 11:14:23        3   \n",
      "40992 2025-09-07 11:14:23        1   \n",
      "40993 2025-09-07 11:14:24        2   \n",
      "40994 2025-09-07 11:14:24        3   \n",
      "40995 2025-09-07 11:14:25        1   \n",
      "\n",
      "                                          user_name  location_x  location_y  \\\n",
      "0      85ASBg6fxWhtKO/ZC1qY1qPdgqnMlgOp5/llGr4OEwQ=   -27.83836    8.195988   \n",
      "1      85ASBg6fxWhtKO/ZC1qY1qPdgqnMlgOp5/llGr4OEwQ=   -27.96252    7.993827   \n",
      "2      85ASBg6fxWhtKO/ZC1qY1qPdgqnMlgOp5/llGr4OEwQ=   -27.40190    7.993827   \n",
      "3      85ASBg6fxWhtKO/ZC1qY1qPdgqnMlgOp5/llGr4OEwQ=   -29.65281    7.993827   \n",
      "4      85ASBg6fxWhtKO/ZC1qY1qPdgqnMlgOp5/llGr4OEwQ=   -30.91121    7.993827   \n",
      "...                                             ...         ...         ...   \n",
      "40991  d3fl7izA7a0hn/pjHw12Q2r2r4d7alKXKGaOH6oIhaU=   -35.66998    8.195988   \n",
      "40992  zCPQoJVRSjJt2+IEfu/a9OovDWgCsejnIOj4j4XXuGQ=   -47.91411    7.993827   \n",
      "40993  85ASBg6fxWhtKO/ZC1qY1qPdgqnMlgOp5/llGr4OEwQ=   -45.59163    7.993827   \n",
      "40994  d3fl7izA7a0hn/pjHw12Q2r2r4d7alKXKGaOH6oIhaU=   -35.65583    8.195988   \n",
      "40995  zCPQoJVRSjJt2+IEfu/a9OovDWgCsejnIOj4j4XXuGQ=   -47.91411    7.993827   \n",
      "\n",
      "       location_z  rotation_1  rotation_2  rotation_3  velocity_x  velocity_y  \\\n",
      "0       -81.37099  359.865800  322.797500  359.915600    0.000340         0.0   \n",
      "1       -69.41039  359.889200    1.441907  359.886400    3.033127         0.0   \n",
      "2       -67.52281  359.889200    1.348309  359.886400   -1.777344         0.0   \n",
      "3       -67.42947  359.883600  184.597500    0.107271   -1.924432         0.0   \n",
      "4       -67.52620  359.909800  159.365500    0.130105   -0.975975         0.0   \n",
      "...           ...         ...         ...         ...         ...         ...   \n",
      "40991   -81.40961    0.000000  272.494700    0.000000    0.000000         0.0   \n",
      "40992   -63.48498    0.003296   92.240430  359.841400    0.000000         0.0   \n",
      "40993   -62.49658    0.136183  220.221900  359.918900    0.000000         0.0   \n",
      "40994   -81.41335    0.000000  267.784400    0.000000    0.000000         0.0   \n",
      "40995   -63.48498    0.003296   92.294960  359.841400    0.000000         0.0   \n",
      "\n",
      "       velocity_z  is_vr   event_day  is_error  \n",
      "0       -0.000068   True  2025-09-07     False  \n",
      "1        0.606104   True  2025-09-07     False  \n",
      "2       -0.348525   True  2025-09-07     False  \n",
      "3        0.169328   True  2025-09-07     False  \n",
      "4       -0.519272   True  2025-09-07     False  \n",
      "...           ...    ...         ...       ...  \n",
      "40991    0.000000   True  2025-09-07     False  \n",
      "40992    0.000000  False  2025-09-07     False  \n",
      "40993    0.000000   True  2025-09-07     False  \n",
      "40994    0.000000   True  2025-09-07     False  \n",
      "40995    0.000000  False  2025-09-07     False  \n",
      "\n",
      "[40996 rows x 15 columns]\n"
     ]
    }
   ],
   "source": [
    "print(data.position)"
   ]
  },
  {
   "cell_type": "code",
   "execution_count": 4,
   "id": "2f1021aa",
   "metadata": {},
   "outputs": [
    {
     "name": "stdout",
     "output_type": "stream",
     "text": [
      "                second action                                       user_id  \\\n",
      "0  2025-09-07 06:21:27   join  kBLBCH/dHez1fm7bm8T85PLE8O9XWd3vMQJGSwr82a0=   \n",
      "1  2025-09-07 06:21:37   left  kBLBCH/dHez1fm7bm8T85PLE8O9XWd3vMQJGSwr82a0=   \n",
      "2  2025-09-07 06:21:54   join  JxF9vlbNUeCoAccmG2VWfAcdVsK+R5VN7DZIN4AFxzc=   \n",
      "3  2025-09-07 06:21:54   join  kBLBCH/dHez1fm7bm8T85PLE8O9XWd3vMQJGSwr82a0=   \n",
      "4  2025-09-07 06:23:48   left  JxF9vlbNUeCoAccmG2VWfAcdVsK+R5VN7DZIN4AFxzc=   \n",
      "..                 ...    ...                                           ...   \n",
      "91 2025-09-07 11:31:24   left  2DSWHgfXXxjxMimfAJHnrqRULZ6SEuCZRVcV40n9Sns=   \n",
      "92 2025-09-07 11:38:36   join  PWEo3ohbWOEWNjHljH33LzGRYyvzo+lg/8JBjszBaJc=   \n",
      "93 2025-09-07 11:42:35   join  90h72C8AQIJvDRGGbApGd+luVdvmSYG9dFWesLtNR14=   \n",
      "94 2025-09-07 11:45:57   join  GpbCxchnlGrLbl5l+aY2VqWKeNUm8no928mZhZsokbY=   \n",
      "95 2025-09-07 11:54:07   left  17U6797qGo6gDutDl14chbSSlLVmRAqye/lxeoaEnQ0=   \n",
      "\n",
      "    is_error  \n",
      "0      False  \n",
      "1      False  \n",
      "2      False  \n",
      "3      False  \n",
      "4      False  \n",
      "..       ...  \n",
      "91     False  \n",
      "92     False  \n",
      "93     False  \n",
      "94     False  \n",
      "95     False  \n",
      "\n",
      "[96 rows x 4 columns]\n"
     ]
    }
   ],
   "source": [
    "print(data.attendance)"
   ]
  },
  {
   "cell_type": "code",
   "execution_count": 5,
   "id": "4fede473",
   "metadata": {},
   "outputs": [
    {
     "name": "stdout",
     "output_type": "stream",
     "text": [
      "<class 'TestLogData.TestArea'>\n"
     ]
    }
   ],
   "source": [
    "print(type(data.area))"
   ]
  },
  {
   "cell_type": "code",
   "execution_count": 7,
   "id": "8d09bd81",
   "metadata": {},
   "outputs": [
    {
     "name": "stderr",
     "output_type": "stream",
     "text": [
      "/home/satoru/Project/YAIBA-democratization/src/yaiba_bi/core/event_log_visualizer.py:237: FutureWarning: 'S' is deprecated and will be removed in a future version, please use 's' instead.\n",
      "  timeline = events.reindex(pd.date_range(events.index.min(), events.index.max(), freq=\"S\"), fill_value=0.0)\n",
      "/home/satoru/Project/YAIBA-democratization/src/yaiba_bi/core/event_log_visualizer.py:346: FutureWarning: Series.view is deprecated and will be removed in a future version. Use ``astype`` as an alternative to change the dtype.\n",
      "  times = df_sorted[time_col].view(np.int64) / 1e9\n",
      "/home/satoru/Project/YAIBA-democratization/.venv/lib/python3.12/site-packages/numpy/_core/fromnumeric.py:57: FutureWarning: 'DataFrame.swapaxes' is deprecated and will be removed in a future version. Please use 'DataFrame.transpose' instead.\n",
      "  return bound(*args, **kwds)\n"
     ]
    },
    {
     "data": {
      "text/plain": [
       "{'cc_png': '~/content/YAIBA_data/output/cc_line_2025-09-25_test.png',\n",
       " 'traj_png': '~/content/YAIBA_data/output/traj_2025-09-25_test.png',\n",
       " 'stats_txt': '~/content/YAIBA_data/output/stats_2025-09-25_test.txt'}"
      ]
     },
     "execution_count": 7,
     "metadata": {},
     "output_type": "execute_result"
    }
   ],
   "source": [
    "from src.yaiba_bi.core.event_log_visualizer import EventLogVisualizer, RenderConfig, TrajectoryConfig\n",
    "\n",
    "render_config = RenderConfig(event_day=\"2025-09-25\", filename=\"test\")\n",
    "trajectory_config = TrajectoryConfig()\n",
    "\n",
    "visualizer = EventLogVisualizer(render_config, trajectory_config)\n",
    "visualizer.run(data.attendance, data.position, data.area)"
   ]
  },
  {
   "cell_type": "code",
   "execution_count": null,
   "id": "5e751823",
   "metadata": {},
   "outputs": [],
   "source": []
  }
 ],
 "metadata": {
  "kernelspec": {
   "display_name": "Python 3 (ipykernel)",
   "language": "python",
   "name": "python3"
  },
  "language_info": {
   "codemirror_mode": {
    "name": "ipython",
    "version": 3
   },
   "file_extension": ".py",
   "mimetype": "text/x-python",
   "name": "python",
   "nbconvert_exporter": "python",
   "pygments_lexer": "ipython3",
   "version": "3.12.3"
  }
 },
 "nbformat": 4,
 "nbformat_minor": 5
}
